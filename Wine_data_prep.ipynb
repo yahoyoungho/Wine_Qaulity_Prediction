{
 "cells": [
  {
   "cell_type": "code",
   "execution_count": 30,
   "metadata": {},
   "outputs": [],
   "source": [
    "import requests\n",
    "from bs4 import BeautifulSoup\n",
    "import pandas as pd\n",
    "import numpy as np\n",
    "from selenium import webdriver\n",
    "import os\n",
    "import time\n",
    "import re\n",
    "import random\n",
    "from tqdm.notebook import tqdm\n",
    "#from user_agents import "
   ]
  },
  {
   "cell_type": "code",
   "execution_count": 31,
   "metadata": {},
   "outputs": [],
   "source": [
    "def generate_proxy():\n",
    "    proxy_url = \"https://us-proxy.org/\"\n",
    "    proxy_list = []\n",
    "    r = requests.get(proxy_url)\n",
    "    #r.status_code\n",
    "    soup = BeautifulSoup(r.text)\n",
    "    table = soup.find(\"table\")\n",
    "    trs = table.find_all(\"tr\")\n",
    "    ths = table.find_all(\"th\")\n",
    "    for tr in trs[1:]:\n",
    "        proxy_dict = {}\n",
    "        for i, td in enumerate(tr.find_all(\"td\")):\n",
    "            proxy_dict[ths[i].text] = td.text\n",
    "        proxy_list.append(proxy_dict)\n",
    "    \n",
    "    proxy_list.remove({})\n",
    "    return pd.DataFrame(proxy_list)"
   ]
  },
  {
   "cell_type": "code",
   "execution_count": 32,
   "metadata": {},
   "outputs": [
    {
     "data": {
      "text/html": [
       "<div>\n",
       "<style scoped>\n",
       "    .dataframe tbody tr th:only-of-type {\n",
       "        vertical-align: middle;\n",
       "    }\n",
       "\n",
       "    .dataframe tbody tr th {\n",
       "        vertical-align: top;\n",
       "    }\n",
       "\n",
       "    .dataframe thead th {\n",
       "        text-align: right;\n",
       "    }\n",
       "</style>\n",
       "<table border=\"1\" class=\"dataframe\">\n",
       "  <thead>\n",
       "    <tr style=\"text-align: right;\">\n",
       "      <th></th>\n",
       "      <th>IP Address</th>\n",
       "      <th>Port</th>\n",
       "      <th>Code</th>\n",
       "      <th>Country</th>\n",
       "      <th>Anonymity</th>\n",
       "      <th>Google</th>\n",
       "      <th>Https</th>\n",
       "      <th>Last Checked</th>\n",
       "    </tr>\n",
       "  </thead>\n",
       "  <tbody>\n",
       "    <tr>\n",
       "      <th>0</th>\n",
       "      <td>89.187.177.89</td>\n",
       "      <td>80</td>\n",
       "      <td>US</td>\n",
       "      <td>United States</td>\n",
       "      <td>anonymous</td>\n",
       "      <td>no</td>\n",
       "      <td>no</td>\n",
       "      <td>7 seconds ago</td>\n",
       "    </tr>\n",
       "    <tr>\n",
       "      <th>1</th>\n",
       "      <td>138.68.60.8</td>\n",
       "      <td>8080</td>\n",
       "      <td>US</td>\n",
       "      <td>United States</td>\n",
       "      <td>anonymous</td>\n",
       "      <td>no</td>\n",
       "      <td>no</td>\n",
       "      <td>7 seconds ago</td>\n",
       "    </tr>\n",
       "    <tr>\n",
       "      <th>2</th>\n",
       "      <td>89.187.177.106</td>\n",
       "      <td>80</td>\n",
       "      <td>US</td>\n",
       "      <td>United States</td>\n",
       "      <td>anonymous</td>\n",
       "      <td>no</td>\n",
       "      <td>no</td>\n",
       "      <td>7 seconds ago</td>\n",
       "    </tr>\n",
       "    <tr>\n",
       "      <th>3</th>\n",
       "      <td>89.187.177.98</td>\n",
       "      <td>80</td>\n",
       "      <td>US</td>\n",
       "      <td>United States</td>\n",
       "      <td>anonymous</td>\n",
       "      <td>no</td>\n",
       "      <td>no</td>\n",
       "      <td>7 seconds ago</td>\n",
       "    </tr>\n",
       "    <tr>\n",
       "      <th>4</th>\n",
       "      <td>89.187.177.90</td>\n",
       "      <td>80</td>\n",
       "      <td>US</td>\n",
       "      <td>United States</td>\n",
       "      <td>anonymous</td>\n",
       "      <td>no</td>\n",
       "      <td>no</td>\n",
       "      <td>3 minutes ago</td>\n",
       "    </tr>\n",
       "    <tr>\n",
       "      <th>...</th>\n",
       "      <td>...</td>\n",
       "      <td>...</td>\n",
       "      <td>...</td>\n",
       "      <td>...</td>\n",
       "      <td>...</td>\n",
       "      <td>...</td>\n",
       "      <td>...</td>\n",
       "      <td>...</td>\n",
       "    </tr>\n",
       "    <tr>\n",
       "      <th>195</th>\n",
       "      <td>23.94.9.209</td>\n",
       "      <td>3128</td>\n",
       "      <td>US</td>\n",
       "      <td>United States</td>\n",
       "      <td>transparent</td>\n",
       "      <td>no</td>\n",
       "      <td>no</td>\n",
       "      <td>3 hours 41 minutes ago</td>\n",
       "    </tr>\n",
       "    <tr>\n",
       "      <th>196</th>\n",
       "      <td>193.56.64.28</td>\n",
       "      <td>8085</td>\n",
       "      <td>US</td>\n",
       "      <td>United States</td>\n",
       "      <td>transparent</td>\n",
       "      <td>no</td>\n",
       "      <td>no</td>\n",
       "      <td>3 hours 41 minutes ago</td>\n",
       "    </tr>\n",
       "    <tr>\n",
       "      <th>197</th>\n",
       "      <td>93.177.117.227</td>\n",
       "      <td>8085</td>\n",
       "      <td>US</td>\n",
       "      <td>United States</td>\n",
       "      <td>transparent</td>\n",
       "      <td>no</td>\n",
       "      <td>no</td>\n",
       "      <td>3 hours 41 minutes ago</td>\n",
       "    </tr>\n",
       "    <tr>\n",
       "      <th>198</th>\n",
       "      <td>85.209.149.112</td>\n",
       "      <td>8085</td>\n",
       "      <td>US</td>\n",
       "      <td>United States</td>\n",
       "      <td>transparent</td>\n",
       "      <td>no</td>\n",
       "      <td>no</td>\n",
       "      <td>3 hours 41 minutes ago</td>\n",
       "    </tr>\n",
       "    <tr>\n",
       "      <th>199</th>\n",
       "      <td>93.177.116.61</td>\n",
       "      <td>8085</td>\n",
       "      <td>US</td>\n",
       "      <td>United States</td>\n",
       "      <td>transparent</td>\n",
       "      <td>no</td>\n",
       "      <td>no</td>\n",
       "      <td>3 hours 41 minutes ago</td>\n",
       "    </tr>\n",
       "  </tbody>\n",
       "</table>\n",
       "<p>200 rows × 8 columns</p>\n",
       "</div>"
      ],
      "text/plain": [
       "         IP Address  Port Code        Country    Anonymity Google Https  \\\n",
       "0     89.187.177.89    80   US  United States    anonymous     no    no   \n",
       "1       138.68.60.8  8080   US  United States    anonymous     no    no   \n",
       "2    89.187.177.106    80   US  United States    anonymous     no    no   \n",
       "3     89.187.177.98    80   US  United States    anonymous     no    no   \n",
       "4     89.187.177.90    80   US  United States    anonymous     no    no   \n",
       "..              ...   ...  ...            ...          ...    ...   ...   \n",
       "195     23.94.9.209  3128   US  United States  transparent     no    no   \n",
       "196    193.56.64.28  8085   US  United States  transparent     no    no   \n",
       "197  93.177.117.227  8085   US  United States  transparent     no    no   \n",
       "198  85.209.149.112  8085   US  United States  transparent     no    no   \n",
       "199   93.177.116.61  8085   US  United States  transparent     no    no   \n",
       "\n",
       "               Last Checked  \n",
       "0             7 seconds ago  \n",
       "1             7 seconds ago  \n",
       "2             7 seconds ago  \n",
       "3             7 seconds ago  \n",
       "4             3 minutes ago  \n",
       "..                      ...  \n",
       "195  3 hours 41 minutes ago  \n",
       "196  3 hours 41 minutes ago  \n",
       "197  3 hours 41 minutes ago  \n",
       "198  3 hours 41 minutes ago  \n",
       "199  3 hours 41 minutes ago  \n",
       "\n",
       "[200 rows x 8 columns]"
      ]
     },
     "execution_count": 32,
     "metadata": {},
     "output_type": "execute_result"
    }
   ],
   "source": [
    "generate_proxy()"
   ]
  },
  {
   "cell_type": "code",
   "execution_count": null,
   "metadata": {},
   "outputs": [],
   "source": []
  },
  {
   "cell_type": "code",
   "execution_count": 70,
   "metadata": {},
   "outputs": [],
   "source": [
    "class Total_Wine_Scraper():\n",
    "    def __init__(self):\n",
    "        self.headers = {'User-Agent': 'Mozilla/5.0 (Macintosh; Intel Mac OS X 10_14_0) AppleWebKit/537.36 (KHTML, like Gecko) Chrome/87.0.4280.141 Safari/537.36'}\n",
    "        self.total_wine_url = \"https://www.totalwine.com\"\n",
    "        self.digit_re = re.compile(r\"\\d+\")\n",
    "        self.wine_details_l = []\n",
    "    \n",
    "    \n",
    "    def get_hrefs(self, soup):\n",
    "        anchors = soup.find(\"div\", attrs = {\"view\":\"tiles\"}).find_all(\"a\")\n",
    "        hrefs = [self.total_wine_url + a.get(\"href\") for a in anchors]\n",
    "        clean_urls = [href.replace(\"&tab=3\",\"\") for href in hrefs]\n",
    "        return list(set(clean_urls))\n",
    "    \n",
    "    def get_last_page_num(self, soup):\n",
    "        nums = []\n",
    "        for li in soup.find_all(\"li\", attrs={\"role\":\"none\"}):\n",
    "            text= li.text\n",
    "            if text != \"\":\n",
    "                try:\n",
    "                    nums.append(int(text))\n",
    "                except:\n",
    "                    pass\n",
    "        return max(nums)\n",
    "    \n",
    "    \n",
    "        \n",
    "    def scrape_wine_details(self, link):\n",
    "        detail_dict = {}\n",
    "        time.sleep(1+random.randint(1,5))\n",
    "        r = requests.get(link, headers= self.headers)\n",
    "        print(\"Status code: {}\".format(r.status_code))\n",
    "        soup = BeautifulSoup(r.text)\n",
    "        wine_name = soup.h1.text\n",
    "        \n",
    "        detailsTPI = self.find_detailsTableProductInfo(soup)\n",
    "        table_rows = soup.find(\"div\", class_= detailsTPI)\n",
    "        for table_row in table_rows:\n",
    "            detail_val = table_row.span#.text\n",
    "            detail_key = table_row.text#.replace(detail_val,\"\")\n",
    "            detail_dict[detail_key] = detail_val\n",
    "            \n",
    "        product_red_badge = self.find_product_red_badge(soup)\n",
    "        red_badge = soup.find(\"div\", class_= product_red_badge)\n",
    "        rb_num = self.digit_re.findall(red_badge.text)[-1]\n",
    "        rb_source = red_badge.text.replace(rb_num,\"\")\n",
    "        detail_dict[\"red_badge_num\"] = rb_num\n",
    "        return detail_dict\n",
    "\n",
    "        \n",
    "    \n",
    "    def find_detailsTableProductInfo(self,soup):\n",
    "        \"\"\"\n",
    "        returns the class string that has detailsTableProductInfo\n",
    "        \"\"\"\n",
    "        divs = soup.find_all(\"div\")\n",
    "        for div in divs:\n",
    "            classes = div.get(\"class\")\n",
    "            if classes != None:\n",
    "                for c in classes:\n",
    "                    if \"detailsTableProductInfo\" in c:\n",
    "                        return c\n",
    "    def find_product_red_badge(self, soup):\n",
    "        divs = soup.find_all(\"div\")\n",
    "        for div in divs:\n",
    "            classes = div.get(\"class\")\n",
    "            if classes != None:\n",
    "                for c in classes:\n",
    "                    if \"product-red-badge\" in c:\n",
    "                        return c\n",
    "    def scrape_wines(self):\n",
    "        total_wine_page_url = \"https://www.totalwine.com/wine/c/c0020?&page=1&pageSize=24&aty=1,0,0,1\"\n",
    "        r = requests.get(total_wine_page_url, headers = self.headers)\n",
    "        soup = BeautifulSoup(r.text)\n",
    "        last_num = self.get_last_page_num(soup)\n",
    "        time.sleep(random.randint(1,5))\n",
    "        # scraping each page\n",
    "        \n",
    "        page_pbar = tqdm(total = last_num, desc=\"Scraping page\")\n",
    "        for i in range(1,last_num+1):\n",
    "            total_wine_fstring = \"https://www.totalwine.com/wine/c/c0020?&page={}&pageSize=24&aty=1,0,0,1\".format(i)\n",
    "            # pausing to avoid being ip banned\n",
    "            time.sleep(5+random.randint(-3,5))\n",
    "            r = requests.get(total_wine_fstring, headers = self.headers)\n",
    "            soup = BeautifulSoup(r.text)\n",
    "            wine_urls = self.get_hrefs(soup)\n",
    "            url_pbar = tqdm(len(wine_urls))\n",
    "            for wine_url in wine_urls:\n",
    "                self.wine_details_l.append(self.scrape_wine_details(wine_url))\n",
    "                url_pbar.update(1)\n",
    "            \n",
    "            page_pbar.update(1)\n",
    "            \n",
    "        return pd.DataFrame(self.wine_details_l)\n",
    "    "
   ]
  },
  {
   "cell_type": "code",
   "execution_count": 71,
   "metadata": {
    "scrolled": true
   },
   "outputs": [
    {
     "data": {
      "application/vnd.jupyter.widget-view+json": {
       "model_id": "f29a01aeb73b46bbabcb6a14c669afff",
       "version_major": 2,
       "version_minor": 0
      },
      "text/plain": [
       "HBox(children=(HTML(value='Scraping page'), FloatProgress(value=0.0, max=1055.0), HTML(value='')))"
      ]
     },
     "metadata": {},
     "output_type": "display_data"
    },
    {
     "data": {
      "application/vnd.jupyter.widget-view+json": {
       "model_id": "5264ddbbc94040f9b488e0d212b6aa76",
       "version_major": 2,
       "version_minor": 0
      },
      "text/plain": [
       "HBox(children=(HTML(value=''), FloatProgress(value=1.0, bar_style='info', layout=Layout(width='20px'), max=1.0…"
      ]
     },
     "metadata": {},
     "output_type": "display_data"
    },
    {
     "name": "stdout",
     "output_type": "stream",
     "text": [
      "Status code: 200\n",
      "Status code: 200\n",
      "Status code: 200\n",
      "Status code: 200\n",
      "Status code: 200\n",
      "Status code: 200\n",
      "Status code: 200\n",
      "Status code: 200\n",
      "Status code: 200\n",
      "Status code: 200\n",
      "Status code: 200\n",
      "Status code: 200\n",
      "Status code: 200\n",
      "Status code: 200\n",
      "Status code: 200\n",
      "Status code: 403\n"
     ]
    },
    {
     "ename": "AttributeError",
     "evalue": "'NavigableString' object has no attribute 'span'",
     "output_type": "error",
     "traceback": [
      "\u001b[0;31m---------------------------------------------------------------------------\u001b[0m",
      "\u001b[0;31mAttributeError\u001b[0m                            Traceback (most recent call last)",
      "\u001b[0;32m<ipython-input-71-71cbf6a7cdff>\u001b[0m in \u001b[0;36m<module>\u001b[0;34m\u001b[0m\n\u001b[1;32m      1\u001b[0m \u001b[0mtws\u001b[0m \u001b[0;34m=\u001b[0m \u001b[0mTotal_Wine_Scraper\u001b[0m\u001b[0;34m(\u001b[0m\u001b[0;34m)\u001b[0m\u001b[0;34m\u001b[0m\u001b[0;34m\u001b[0m\u001b[0m\n\u001b[0;32m----> 2\u001b[0;31m \u001b[0mtws\u001b[0m\u001b[0;34m.\u001b[0m\u001b[0mscrape_wines\u001b[0m\u001b[0;34m(\u001b[0m\u001b[0;34m)\u001b[0m\u001b[0;34m\u001b[0m\u001b[0;34m\u001b[0m\u001b[0m\n\u001b[0m",
      "\u001b[0;32m<ipython-input-70-7fb81685e655>\u001b[0m in \u001b[0;36mscrape_wines\u001b[0;34m(self)\u001b[0m\n\u001b[1;32m     88\u001b[0m             \u001b[0murl_pbar\u001b[0m \u001b[0;34m=\u001b[0m \u001b[0mtqdm\u001b[0m\u001b[0;34m(\u001b[0m\u001b[0mlen\u001b[0m\u001b[0;34m(\u001b[0m\u001b[0mwine_urls\u001b[0m\u001b[0;34m)\u001b[0m\u001b[0;34m)\u001b[0m\u001b[0;34m\u001b[0m\u001b[0;34m\u001b[0m\u001b[0m\n\u001b[1;32m     89\u001b[0m             \u001b[0;32mfor\u001b[0m \u001b[0mwine_url\u001b[0m \u001b[0;32min\u001b[0m \u001b[0mwine_urls\u001b[0m\u001b[0;34m:\u001b[0m\u001b[0;34m\u001b[0m\u001b[0;34m\u001b[0m\u001b[0m\n\u001b[0;32m---> 90\u001b[0;31m                 \u001b[0mwine_details_l\u001b[0m\u001b[0;34m.\u001b[0m\u001b[0mappend\u001b[0m\u001b[0;34m(\u001b[0m\u001b[0mself\u001b[0m\u001b[0;34m.\u001b[0m\u001b[0mscrape_wine_details\u001b[0m\u001b[0;34m(\u001b[0m\u001b[0mwine_url\u001b[0m\u001b[0;34m)\u001b[0m\u001b[0;34m)\u001b[0m\u001b[0;34m\u001b[0m\u001b[0;34m\u001b[0m\u001b[0m\n\u001b[0m\u001b[1;32m     91\u001b[0m                 \u001b[0murl_pbar\u001b[0m\u001b[0;34m.\u001b[0m\u001b[0mupdate\u001b[0m\u001b[0;34m(\u001b[0m\u001b[0;36m1\u001b[0m\u001b[0;34m)\u001b[0m\u001b[0;34m\u001b[0m\u001b[0;34m\u001b[0m\u001b[0m\n\u001b[1;32m     92\u001b[0m \u001b[0;34m\u001b[0m\u001b[0m\n",
      "\u001b[0;32m<ipython-input-70-7fb81685e655>\u001b[0m in \u001b[0;36mscrape_wine_details\u001b[0;34m(self, link)\u001b[0m\n\u001b[1;32m     36\u001b[0m         \u001b[0mtable_rows\u001b[0m \u001b[0;34m=\u001b[0m \u001b[0msoup\u001b[0m\u001b[0;34m.\u001b[0m\u001b[0mfind\u001b[0m\u001b[0;34m(\u001b[0m\u001b[0;34m\"div\"\u001b[0m\u001b[0;34m,\u001b[0m \u001b[0mclass_\u001b[0m\u001b[0;34m=\u001b[0m \u001b[0mdetailsTPI\u001b[0m\u001b[0;34m)\u001b[0m\u001b[0;34m\u001b[0m\u001b[0;34m\u001b[0m\u001b[0m\n\u001b[1;32m     37\u001b[0m         \u001b[0;32mfor\u001b[0m \u001b[0mtable_row\u001b[0m \u001b[0;32min\u001b[0m \u001b[0mtable_rows\u001b[0m\u001b[0;34m:\u001b[0m\u001b[0;34m\u001b[0m\u001b[0;34m\u001b[0m\u001b[0m\n\u001b[0;32m---> 38\u001b[0;31m             \u001b[0mdetail_val\u001b[0m \u001b[0;34m=\u001b[0m \u001b[0mtable_row\u001b[0m\u001b[0;34m.\u001b[0m\u001b[0mspan\u001b[0m\u001b[0;31m#.text\u001b[0m\u001b[0;34m\u001b[0m\u001b[0;34m\u001b[0m\u001b[0m\n\u001b[0m\u001b[1;32m     39\u001b[0m             \u001b[0mdetail_key\u001b[0m \u001b[0;34m=\u001b[0m \u001b[0mtable_row\u001b[0m\u001b[0;34m.\u001b[0m\u001b[0mtext\u001b[0m\u001b[0;31m#.replace(detail_val,\"\")\u001b[0m\u001b[0;34m\u001b[0m\u001b[0;34m\u001b[0m\u001b[0m\n\u001b[1;32m     40\u001b[0m             \u001b[0mdetail_dict\u001b[0m\u001b[0;34m[\u001b[0m\u001b[0mdetail_key\u001b[0m\u001b[0;34m]\u001b[0m \u001b[0;34m=\u001b[0m \u001b[0mdetail_val\u001b[0m\u001b[0;34m\u001b[0m\u001b[0;34m\u001b[0m\u001b[0m\n",
      "\u001b[0;32m~/anaconda3/lib/python3.8/site-packages/bs4/element.py\u001b[0m in \u001b[0;36m__getattr__\u001b[0;34m(self, attr)\u001b[0m\n\u001b[1;32m    919\u001b[0m             \u001b[0;32mreturn\u001b[0m \u001b[0mself\u001b[0m\u001b[0;34m\u001b[0m\u001b[0;34m\u001b[0m\u001b[0m\n\u001b[1;32m    920\u001b[0m         \u001b[0;32melse\u001b[0m\u001b[0;34m:\u001b[0m\u001b[0;34m\u001b[0m\u001b[0;34m\u001b[0m\u001b[0m\n\u001b[0;32m--> 921\u001b[0;31m             raise AttributeError(\n\u001b[0m\u001b[1;32m    922\u001b[0m                 \"'%s' object has no attribute '%s'\" % (\n\u001b[1;32m    923\u001b[0m                     self.__class__.__name__, attr))\n",
      "\u001b[0;31mAttributeError\u001b[0m: 'NavigableString' object has no attribute 'span'"
     ]
    }
   ],
   "source": [
    "tws = Total_Wine_Scraper()\n",
    "tws.scrape_wines()"
   ]
  },
  {
   "cell_type": "code",
   "execution_count": null,
   "metadata": {},
   "outputs": [],
   "source": []
  },
  {
   "cell_type": "code",
   "execution_count": 2,
   "metadata": {},
   "outputs": [
    {
     "name": "stdout",
     "output_type": "stream",
     "text": [
      "200\n"
     ]
    }
   ],
   "source": [
    "headers = {'User-Agent': 'Mozilla/5.0 (Macintosh; Intel Mac OS X 10_14_0) AppleWebKit/537.36 (KHTML, like Gecko) Chrome/87.0.4280.141 Safari/537.36'}\n",
    "total_wine_url = \"https://www.totalwine.com/\"\n",
    "r = requests.get(total_wine_url, headers= headers)\n",
    "print(r.status_code)"
   ]
  },
  {
   "cell_type": "code",
   "execution_count": 34,
   "metadata": {},
   "outputs": [],
   "source": [
    "headers = {'User-Agent': 'Mozilla/5.0 (Macintosh; Intel Mac OS X 10_14_0) AppleWebKit/537.36 (KHTML, like Gecko) Chrome/87.0.4280.141 Safari/537.36'}\n",
    "tws = Total_Wine_Scraper()\n",
    "r = requests.get(\"https://www.totalwine.com/wine/c/c0020?&page=1&pageSize=24&aty=1,0,0,1\", headers = headers)\n",
    "soup = BeautifulSoup(r.text)"
   ]
  },
  {
   "cell_type": "code",
   "execution_count": 37,
   "metadata": {},
   "outputs": [
    {
     "name": "stdout",
     "output_type": "stream",
     "text": [
      "72 24\n"
     ]
    }
   ],
   "source": [
    "hrefs = tws.get_hrefs(soup)\n",
    "new_hrefs= []\n",
    "\n",
    "for href in hrefs:\n",
    "    new_hrefs.append(href.replace(\"&tab=3\",\"\"))\n",
    "    \n",
    "print(len(hrefs),len(set(new_hrefs)))"
   ]
  },
  {
   "cell_type": "code",
   "execution_count": 9,
   "metadata": {},
   "outputs": [],
   "source": [
    "driver = webdriver.Chrome(executable_path=\"tmp_src/chromedriver\")\n",
    "driver.get(total_wine_url)"
   ]
  },
  {
   "cell_type": "code",
   "execution_count": 10,
   "metadata": {},
   "outputs": [],
   "source": [
    "wine_nav = driver.find_element_by_id(\"AT_WineNav\")\n",
    "wine_nav.click()"
   ]
  },
  {
   "cell_type": "code",
   "execution_count": 3,
   "metadata": {},
   "outputs": [
    {
     "data": {
      "text/plain": [
       "200"
      ]
     },
     "execution_count": 3,
     "metadata": {},
     "output_type": "execute_result"
    }
   ],
   "source": [
    "total_wine_wine_url = \"https://www.totalwine.com/wine/c/c0020?&page=1&pageSize=24&aty=1,0,0,1\"\n",
    "r = requests.get(total_wine_wine_url, headers=headers)\n",
    "r.status_code"
   ]
  },
  {
   "cell_type": "code",
   "execution_count": 4,
   "metadata": {},
   "outputs": [],
   "source": [
    "soup = BeautifulSoup(r.text)"
   ]
  },
  {
   "cell_type": "code",
   "execution_count": 19,
   "metadata": {},
   "outputs": [
    {
     "data": {
      "text/plain": [
       "'/wine/deals/red-wine/red-blend/renieri-invetro/p/113710750?s=1108&igrules=true'"
      ]
     },
     "execution_count": 19,
     "metadata": {},
     "output_type": "execute_result"
    }
   ],
   "source": [
    "soup.find(\"div\", attrs={\"view\":\"tiles\"}).find_all(\"a\")[0].get(\"href\")"
   ]
  },
  {
   "cell_type": "code",
   "execution_count": 6,
   "metadata": {},
   "outputs": [
    {
     "data": {
      "text/plain": [
       "200"
      ]
     },
     "execution_count": 6,
     "metadata": {},
     "output_type": "execute_result"
    }
   ],
   "source": [
    "wine_r = requests.get(hs[0], headers=headers)\n",
    "wine_r.status_code"
   ]
  },
  {
   "cell_type": "code",
   "execution_count": 7,
   "metadata": {},
   "outputs": [],
   "source": [
    "wine_soup = BeautifulSoup(wine_r.text)"
   ]
  },
  {
   "cell_type": "code",
   "execution_count": 8,
   "metadata": {},
   "outputs": [
    {
     "data": {
      "text/plain": [
       "[<h1 class=\"productTitle__3XDd9UVh\">RENIERI INVETRO, 2016</h1>,\n",
       " <h1 class=\"productTitle__3XDd9UVh\">RENIERI INVETRO, 2016</h1>]"
      ]
     },
     "execution_count": 8,
     "metadata": {},
     "output_type": "execute_result"
    }
   ],
   "source": [
    "wine_soup.find_all(\"h1\")"
   ]
  },
  {
   "cell_type": "code",
   "execution_count": 11,
   "metadata": {},
   "outputs": [],
   "source": [
    "wine_divs = wine_soup.find_all(\"div\")"
   ]
  },
  {
   "cell_type": "code",
   "execution_count": 16,
   "metadata": {},
   "outputs": [],
   "source": [
    "detail_tablelabels= re.compile(r\"\\detailsTableLabel\")"
   ]
  },
  {
   "cell_type": "code",
   "execution_count": 26,
   "metadata": {},
   "outputs": [
    {
     "name": "stdout",
     "output_type": "stream",
     "text": [
      "detailsTableProductInfo__2_nFoPxO\n"
     ]
    }
   ],
   "source": [
    "for wine_div in wine_divs:\n",
    "    classes = wine_div.get(\"class\")\n",
    "    if classes != None:\n",
    "        for c in classes:\n",
    "            if \"detailsTableProductInfo\" in c:\n",
    "                print(c)"
   ]
  },
  {
   "cell_type": "code",
   "execution_count": 33,
   "metadata": {},
   "outputs": [
    {
     "data": {
      "text/plain": [
       "<span>Renieri</span>"
      ]
     },
     "execution_count": 33,
     "metadata": {},
     "output_type": "execute_result"
    }
   ],
   "source": [
    " wine_soup.find(\"div\", class_= \"detailsTableProductInfo__2_nFoPxO\").find_all(\"div\")[0].span"
   ]
  },
  {
   "cell_type": "code",
   "execution_count": 34,
   "metadata": {},
   "outputs": [
    {
     "name": "stdout",
     "output_type": "stream",
     "text": [
      "product-red-badge__2JqIvCXw\n"
     ]
    }
   ],
   "source": [
    "for wine_div in wine_divs:\n",
    "    classes = wine_div.get(\"class\")\n",
    "    if classes != None:\n",
    "        for c in classes:\n",
    "            if \"product-red-badge\" in c:\n",
    "                print(c)"
   ]
  },
  {
   "cell_type": "code",
   "execution_count": 45,
   "metadata": {},
   "outputs": [
    {
     "data": {
      "text/plain": [
       "['92', '012']"
      ]
     },
     "execution_count": 45,
     "metadata": {},
     "output_type": "execute_result"
    }
   ],
   "source": [
    "re.compile(r\"\\d+\").findall('92James Suckling')"
   ]
  },
  {
   "cell_type": "code",
   "execution_count": 47,
   "metadata": {},
   "outputs": [
    {
     "data": {
      "text/plain": [
       "<div class=\"product-red-badge__2JqIvCXw\"><div class=\"badgeContainer__36P-nTb2\" style=\"background-image:url(/product/c426ca81aac7ea509e8f3edf320e6830.png)\"><div class=\"redBadgeNumber__DZXSWqnj\">92</div></div><div class=\"redBadgeSource__1hMXdJ5Z\">James Suckling</div></div>"
      ]
     },
     "execution_count": 47,
     "metadata": {},
     "output_type": "execute_result"
    }
   ],
   "source": [
    "wine_soup.find(\"div\", class_= \"product-red-badge__2JqIvCXw\")"
   ]
  },
  {
   "cell_type": "code",
   "execution_count": 46,
   "metadata": {},
   "outputs": [
    {
     "data": {
      "text/plain": [
       "'James Suckling9'"
      ]
     },
     "execution_count": 46,
     "metadata": {},
     "output_type": "execute_result"
    }
   ],
   "source": [
    "'92James Suckling9'.replace(\"92\",\"\")"
   ]
  },
  {
   "cell_type": "code",
   "execution_count": 50,
   "metadata": {},
   "outputs": [
    {
     "name": "stdout",
     "output_type": "stream",
     "text": [
      "[]\n",
      "\n",
      "\n",
      "\n",
      "\n",
      "['1']\n",
      "\n",
      "\n",
      "\n",
      "\n",
      "['2']\n",
      "\n",
      "\n",
      "\n",
      "\n",
      "['3']\n",
      "\n",
      "\n",
      "\n",
      "\n",
      "['4']\n",
      "\n",
      "\n",
      "\n",
      "\n",
      "[]\n",
      "\n",
      "\n",
      "\n",
      "\n",
      "['1054']\n",
      "\n",
      "\n",
      "\n",
      "\n",
      "[]\n",
      "\n",
      "\n",
      "\n",
      "\n"
     ]
    }
   ],
   "source": [
    "for li in soup.find_all(\"li\", attrs={\"role\":\"none\"}):\n",
    "    print(re.compile(r\"\\d+\").findall(li.text))\n",
    "    print(\"\\n\\n\\n\")"
   ]
  },
  {
   "cell_type": "code",
   "execution_count": null,
   "metadata": {},
   "outputs": [],
   "source": [
    "def total_wine_scraper():\n",
    "    headers = {'User-Agent': 'Mozilla/5.0 (Macintosh; Intel Mac OS X 10_14_0) AppleWebKit/537.36 (KHTML, like Gecko) Chrome/87.0.4280.141 Safari/537.36'}\n",
    "    total_wine_url = \"https://www.totalwine.com/\"\n",
    "    total_wine_wine_url = \"https://www.totalwine.com/wine/c/c0020?&page=1&pageSize=24&aty=1,0,0,1\"\n",
    "    \n"
   ]
  }
 ],
 "metadata": {
  "kernelspec": {
   "display_name": "Python 3",
   "language": "python",
   "name": "python3"
  },
  "language_info": {
   "codemirror_mode": {
    "name": "ipython",
    "version": 3
   },
   "file_extension": ".py",
   "mimetype": "text/x-python",
   "name": "python",
   "nbconvert_exporter": "python",
   "pygments_lexer": "ipython3",
   "version": "3.8.5"
  }
 },
 "nbformat": 4,
 "nbformat_minor": 4
}
